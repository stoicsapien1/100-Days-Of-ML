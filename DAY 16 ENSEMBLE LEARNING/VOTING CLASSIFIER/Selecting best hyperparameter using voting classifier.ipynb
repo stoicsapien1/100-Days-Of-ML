{
 "cells": [
  {
   "cell_type": "code",
   "execution_count": 4,
   "metadata": {},
   "outputs": [],
   "source": [
    "from sklearn.svm import SVC\n",
    "from sklearn.model_selection import cross_val_score\n",
    "import numpy as np\n"
   ]
  },
  {
   "cell_type": "code",
   "execution_count": 5,
   "metadata": {},
   "outputs": [
    {
     "name": "stdout",
     "output_type": "stream",
     "text": [
      "svm1 0.8540000000000001\n",
      "svm2 0.8530000000000001\n",
      "svm3 0.8939999999999999\n",
      "svm4 0.8089999999999999\n",
      "svm5 0.8639999999999999\n"
     ]
    }
   ],
   "source": [
    "from sklearn.datasets import make_classification\n",
    "X,y=make_classification(n_samples=1000,n_features=20,n_informative=15,n_redundant=5,random_state=2)\n",
    "\n",
    "svm1=SVC(probability=True,kernel=\"poly\",degree=1)\n",
    "svm2=SVC(probability=True,kernel=\"poly\",degree=2)\n",
    "svm3=SVC(probability=True,kernel=\"poly\",degree=3)\n",
    "svm4=SVC(probability=True,kernel=\"poly\",degree=4)\n",
    "svm5=SVC(probability=True,kernel=\"poly\",degree=5)\n",
    "\n",
    "estimators=[(\"svm1\",svm1),(\"svm2\",svm2),(\"svm3\",svm3),(\"svm4\",svm4),(\"svm5\",svm5)]\n",
    "for estimator in estimators:\n",
    "    x=cross_val_score(estimator[1],X,y,cv=10,scoring=\"accuracy\")\n",
    "    print(estimator[0],np.mean(x))"
   ]
  },
  {
   "cell_type": "code",
   "execution_count": 8,
   "metadata": {},
   "outputs": [
    {
     "name": "stdout",
     "output_type": "stream",
     "text": [
      "0.9280000000000002\n"
     ]
    }
   ],
   "source": [
    "from sklearn.ensemble import VotingClassifier\n",
    "vc1=VotingClassifier(estimators,voting=\"soft\")\n",
    "x=cross_val_score(vc1,X,y,scoring=\"accuracy\",cv=10)\n",
    "print(np.mean(x))"
   ]
  },
  {
   "cell_type": "code",
   "execution_count": null,
   "metadata": {},
   "outputs": [],
   "source": []
  }
 ],
 "metadata": {
  "kernelspec": {
   "display_name": "Python 3",
   "language": "python",
   "name": "python3"
  },
  "language_info": {
   "codemirror_mode": {
    "name": "ipython",
    "version": 3
   },
   "file_extension": ".py",
   "mimetype": "text/x-python",
   "name": "python",
   "nbconvert_exporter": "python",
   "pygments_lexer": "ipython3",
   "version": "3.10.0"
  }
 },
 "nbformat": 4,
 "nbformat_minor": 2
}
