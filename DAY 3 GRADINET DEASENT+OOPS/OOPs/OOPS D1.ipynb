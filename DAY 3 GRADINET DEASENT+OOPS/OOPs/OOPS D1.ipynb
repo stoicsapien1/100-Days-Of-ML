{
 "cells": [
  {
   "cell_type": "markdown",
   "id": "adc79030-b4ba-4430-aa28-ee4fc3d7c45a",
   "metadata": {},
   "source": [
    "##Proceudral Programming"
   ]
  },
  {
   "cell_type": "code",
   "execution_count": 3,
   "id": "0f0350dc-9a75-4103-93fa-bcffa4ac6c42",
   "metadata": {},
   "outputs": [
    {
     "name": "stdout",
     "output_type": "stream",
     "text": [
      "Name :  Belal\n",
      "House:  naag Shakti\n",
      "Belal from naag Shakti\n"
     ]
    }
   ],
   "source": [
    "name=input(\"Name : \")\n",
    "house=input(\"House: \")\n",
    "print(f\"{name} from {house}\")"
   ]
  },
  {
   "cell_type": "code",
   "execution_count": 1,
   "id": "0745cf9b-3f70-4b45-9736-0340fa5c95ee",
   "metadata": {},
   "outputs": [],
   "source": [
    "from turtle import *\n",
    "t1=Turtle()\n",
    "t2=Turtle()\n",
    "t1.color(\"orange\")\n",
    "t2.color(\"purple\")\n",
    "t1.forward(50)\n",
    "t1.left(90)\n",
    "t2.left(90)\n",
    "t2.forward(50)\n",
    "done()"
   ]
  },
  {
   "cell_type": "code",
   "execution_count": 1,
   "id": "c11fc808-6b98-4174-bee5-ecbd902ac10c",
   "metadata": {},
   "outputs": [],
   "source": [
    "class App:\n",
    "    def __init__(self,users,storage,username):\n",
    "        self.users=users\n",
    "        self.storage=storage\n",
    "        self.username=username\n",
    "    def login(self):\n",
    "        if self.username==\"owner\" and self.users >=1:\n",
    "            print(\"Welcome,\",self.username)\n",
    "            print(\"Your storage is:\",self.storage)\n",
    "        else:\n",
    "            print(\"You not a user!\")\n",
    "    def increase_capacity(self,number):\n",
    "        self.storage+= number\n",
    "        print(\"Updated Storage\",self.storage)\n",
    "    \n",
    "product_one=App(35,256,\"owner\")"
   ]
  },
  {
   "cell_type": "code",
   "execution_count": 3,
   "id": "c4cee2ce",
   "metadata": {},
   "outputs": [
    {
     "name": "stdout",
     "output_type": "stream",
     "text": [
      "Welcome, owner\n",
      "Your storage is: 256\n",
      "Updated Storage 267\n"
     ]
    }
   ],
   "source": [
    "product_one.login()\n",
    "product_one.increase_capacity(11)"
   ]
  },
  {
   "cell_type": "code",
   "execution_count": 5,
   "id": "3f56235d",
   "metadata": {},
   "outputs": [
    {
     "name": "stdout",
     "output_type": "stream",
     "text": [
      "You not a user!\n"
     ]
    }
   ],
   "source": [
    "product_two=App(35,256,\"belal\")\n",
    "product_two.login()"
   ]
  },
  {
   "cell_type": "markdown",
   "id": "74473694",
   "metadata": {},
   "source": [
    "## Online Course Management"
   ]
  },
  {
   "cell_type": "markdown",
   "id": "78cbe29e",
   "metadata": {},
   "source": [
    "Title: Online Course Management System\n",
    "\n",
    "\n",
    "\n",
    "Description:\n",
    "The code represents an online course management system that helps keep track of online courses, students, and their grades. It allows you to do things like enroll students, see course details, and calculate average grades.\n",
    "\n",
    "#####\n",
    "\n",
    "Let's imagine we have an \"OnlineCourse\" class. When we create a new course, we need to give it a name and the name of the person who will teach the course (we call them the instructor). The system will also create a list where we can keep track of the students who enroll in the course.\n",
    "\n",
    "Here are the main things we can do with this system:\n",
    "\n",
    "#1 - Enroll a student -> enroll_student(student_name): If someone wants to join a course, we can add their name to the list of students in that course. When we do this, the system will tell us that the student has successfully enrolled.\n",
    "\n",
    "#2 - See course details -> get_course_details(): We can ask the system to show us information about a course. This includes the course name, the name of the instructor, and the names of all the students who have enrolled.\n",
    "\n",
    "#3 - Mark a student as completed -> complete_course(student_name): If a student finishes the course, we can tell the system that they are done. The system will remove their name from the list of enrolled students and tell us that the student has successfully completed the course. But if we try to mark someone as completed who is not enrolled, the system will tell us that the student is not in the course.\n",
    "\n",
    "#4 - Calculate average grade -> calculate_average_grade(grades): We can also ask the system to calculate the average grade for the course. To do this, we need to provide a list of grades, and the system will tell us the average (or typical) grade for all the students in the course.\n",
    "\n",
    "Outside your class, we have an example of how to use the system. We can enter the course name, instructor's name, and the name of a student. Then, the system will create the course and add the student to it. It will also calculate the average grade based on a list of grades. Finally, it will show us the course details and mark the student as completed.\n",
    "\n",
    "So, this code is like a computer program that helps manage online courses. It keeps track of students, grades, and other important information to make it easier for people to learn and complete their courses online."
   ]
  },
  {
   "cell_type": "code",
   "execution_count": 7,
   "id": "70cbe706",
   "metadata": {},
   "outputs": [],
   "source": [
    "class OnlineCourse:\n",
    "    def __init__(self,course,teacher):\n",
    "        self.course=course\n",
    "        self.teacher=teacher\n",
    "        self.students=[]\n",
    "    def enroll_students(self,name):\n",
    "        self.students.append(name)\n",
    "        print(f\"{name} has enrolled in the {self.course} course\")\n",
    "    def course_details(self):\n",
    "        print(f\"Course:{self.course}\")\n",
    "        print(f\"Teacher:{self.teacher}\")\n",
    "        print(f\"Enrolled Students:{','.join(self.students)}\")\n",
    "    def complete_course(self,student_name):\n",
    "        if student_name in self.students:\n",
    "            print(f\"{student_name} has completed the {self.course}\")\n",
    "            self.students=self.students.remove(\"student_name\")\n",
    "        else:\n",
    "            print(f\"{student_name} is not enrolled in {self.course}\")\n",
    "    def avg_grade(self,grades):\n",
    "        total=sum(grades)\n",
    "        average=total/len(grades)\n",
    "        print(f\"The average grade is:{average}\")"
   ]
  },
  {
   "cell_type": "code",
   "execution_count": 9,
   "id": "77514001",
   "metadata": {},
   "outputs": [],
   "source": [
    "course1=OnlineCourse(\"Python\",\"Belal\")"
   ]
  },
  {
   "cell_type": "code",
   "execution_count": 11,
   "id": "cfe0636a",
   "metadata": {},
   "outputs": [
    {
     "name": "stdout",
     "output_type": "stream",
     "text": [
      "Mike has enrolled in the Python course\n"
     ]
    }
   ],
   "source": [
    "course1.enroll_students(\"Mike\")"
   ]
  },
  {
   "cell_type": "code",
   "execution_count": 12,
   "id": "d9c34783",
   "metadata": {},
   "outputs": [
    {
     "name": "stdout",
     "output_type": "stream",
     "text": [
      "Course:Python\n",
      "Teacher:Belal\n",
      "Enrolled Students:Mike\n"
     ]
    }
   ],
   "source": [
    "course1.course_details()"
   ]
  },
  {
   "cell_type": "code",
   "execution_count": 13,
   "id": "d4f20997",
   "metadata": {},
   "outputs": [
    {
     "name": "stdout",
     "output_type": "stream",
     "text": [
      "Mihaj has enrolled in the Python course\n"
     ]
    }
   ],
   "source": [
    "course1.enroll_students(\"Mihaj\")"
   ]
  },
  {
   "cell_type": "code",
   "execution_count": 14,
   "id": "c96b13db",
   "metadata": {},
   "outputs": [
    {
     "name": "stdout",
     "output_type": "stream",
     "text": [
      "Course:Python\n",
      "Teacher:Belal\n",
      "Enrolled Students:Mike,Mihaj\n"
     ]
    }
   ],
   "source": [
    "course1.course_details()"
   ]
  },
  {
   "cell_type": "code",
   "execution_count": 15,
   "id": "410df02b",
   "metadata": {},
   "outputs": [
    {
     "name": "stdout",
     "output_type": "stream",
     "text": [
      "titu is not enrolled in Python\n"
     ]
    }
   ],
   "source": [
    "course1.complete_course(\"titu\")"
   ]
  },
  {
   "cell_type": "code",
   "execution_count": 17,
   "id": "f8020cba",
   "metadata": {},
   "outputs": [
    {
     "name": "stdout",
     "output_type": "stream",
     "text": [
      "The average grade is:90.0\n"
     ]
    }
   ],
   "source": [
    "course1.avg_grade([90,90])"
   ]
  },
  {
   "cell_type": "code",
   "execution_count": null,
   "id": "3f50833f",
   "metadata": {},
   "outputs": [],
   "source": []
  }
 ],
 "metadata": {
  "kernelspec": {
   "display_name": "Python 3 (ipykernel)",
   "language": "python",
   "name": "python3"
  },
  "language_info": {
   "codemirror_mode": {
    "name": "ipython",
    "version": 3
   },
   "file_extension": ".py",
   "mimetype": "text/x-python",
   "name": "python",
   "nbconvert_exporter": "python",
   "pygments_lexer": "ipython3",
   "version": "3.10.9"
  }
 },
 "nbformat": 4,
 "nbformat_minor": 5
}
