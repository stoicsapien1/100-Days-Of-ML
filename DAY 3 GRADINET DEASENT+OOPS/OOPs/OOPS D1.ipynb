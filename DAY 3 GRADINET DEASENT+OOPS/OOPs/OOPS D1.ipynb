{
 "cells": [
  {
   "cell_type": "markdown",
   "id": "adc79030-b4ba-4430-aa28-ee4fc3d7c45a",
   "metadata": {},
   "source": [
    "##Proceudral Programming"
   ]
  },
  {
   "cell_type": "code",
   "execution_count": 3,
   "id": "0f0350dc-9a75-4103-93fa-bcffa4ac6c42",
   "metadata": {},
   "outputs": [
    {
     "name": "stdout",
     "output_type": "stream",
     "text": [
      "Name :  Belal\n",
      "House:  naag Shakti\n"
     ]
    },
    {
     "name": "stdout",
     "output_type": "stream",
     "text": [
      "Belal from naag Shakti\n"
     ]
    }
   ],
   "source": [
    "name=input(\"Name : \")\n",
    "house=input(\"House: \")\n",
    "print(f\"{name} from {house}\")"
   ]
  },
  {
   "cell_type": "code",
   "execution_count": 1,
   "id": "0745cf9b-3f70-4b45-9736-0340fa5c95ee",
   "metadata": {},
   "outputs": [],
   "source": [
    "from turtle import *\n",
    "t1=Turtle()\n",
    "t2=Turtle()\n",
    "t1.color(\"orange\")\n",
    "t2.color(\"purple\")\n",
    "t1.forward(50)\n",
    "t1.left(90)\n",
    "t2.left(90)\n",
    "t2.forward(50)\n",
    "done()"
   ]
  },
  {
   "cell_type": "code",
   "execution_count": null,
   "id": "c11fc808-6b98-4174-bee5-ecbd902ac10c",
   "metadata": {},
   "outputs": [],
   "source": []
  }
 ],
 "metadata": {
  "kernelspec": {
   "display_name": "Python 3 (ipykernel)",
   "language": "python",
   "name": "python3"
  },
  "language_info": {
   "codemirror_mode": {
    "name": "ipython",
    "version": 3
   },
   "file_extension": ".py",
   "mimetype": "text/x-python",
   "name": "python",
   "nbconvert_exporter": "python",
   "pygments_lexer": "ipython3",
   "version": "3.10.0"
  }
 },
 "nbformat": 4,
 "nbformat_minor": 5
}
