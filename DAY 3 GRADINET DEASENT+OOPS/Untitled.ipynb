{
 "cells": [
  {
   "cell_type": "code",
   "execution_count": 2,
   "id": "0dbd9ee4-cf84-48c9-9709-a40fae7071fa",
   "metadata": {},
   "outputs": [
    {
     "data": {
      "text/html": [
       "<table>\n",
       "<tbody>\n",
       "\t<tr><td>-1.557565</td></tr>\n",
       "</tbody>\n",
       "</table>\n"
      ],
      "text/latex": [
       "\\begin{tabular}{l}\n",
       "\t -1.557565\\\\\n",
       "\\end{tabular}\n"
      ],
      "text/markdown": [
       "\n",
       "| -1.557565 |\n",
       "\n"
      ],
      "text/plain": [
       "     [,1]     \n",
       "[1,] -1.557565"
      ]
     },
     "metadata": {},
     "output_type": "display_data"
    }
   ],
   "source": [
    "# load library MASS \n",
    "library(MASS) \n",
    "\n",
    "n = 10  ## Sample Size\n",
    "p = 3 ## Dimension\n",
    "mu = c(120,85,1.5) ## True Mean Vector                                   \n",
    "SM = matrix(c(80, 45, 7, 45, 40, 4, 7, 4, 1),3,3) ## Covariance Matrix \n",
    "\n",
    "datamat = (mvrnorm(n,mu=mu,Sigma=SM)) \n",
    "datamat[datamat<0]=0.01\n",
    "data1=data.frame(round(datamat,2))\n",
    "colnames(data1)=c(\"SBP\",\"Glucose\",\"TSH\")\n",
    "\n",
    "##########################################\n",
    "############ Find ML Estimates ###########\n",
    "##########################################\n",
    "mu_hat=colMeans(data1)\n",
    "SIG_hat=((n-1)/n)*cov(data1)\n",
    "maxl=((2*pi)^(-n*p/2))*(exp(-n*p/2))*(det(SIG_hat)^(-n/2))\n",
    "\n",
    "\n",
    "##########################################\n",
    "############ Confidence Region ###########\n",
    "##########################################\n",
    "### Finding whether a point falls in a 95% CR for mu vector\n",
    "Fcrit=qf(0.95,p,n-p)\n",
    "kk=Fcrit*((n-1)*p)/(n*(n-p))\n",
    "\n",
    "mufun=function(mu){\n",
    "  tval=t(mu_hat-mu)%*%solve(SIG_hat)%*%(mu_hat-mu)\n",
    "  res=tval-kk\n",
    "  return(res)\n",
    "}\n",
    "## Check if (120,85,1.5) falls in the CR\n",
    "mufun(c(120,85,1.5))\n",
    "\n",
    "##########################################\n",
    "############ Test of hypothesis ##########\n",
    "##########################################\n",
    "### Test if mu0=c(124,87,1.4) is different than true mu at 5% LS\n",
    "### Hotelling T^2\n",
    "mu0=c(124,87,1.4)\n",
    "Fcrit=qf(0.95,p,n-p)\n",
    "kk=Fcrit*((n-1)*p)/(n*(n-p))\n",
    "tval=t(mu_hat-mu0)%*%solve(SIG_hat)%*%(mu_hat-mu0)\n",
    "\n",
    "### Is tval > kk? No, hence H0 is not rejected\n",
    "\n",
    "\n"
   ]
  },
  {
   "cell_type": "code",
   "execution_count": null,
   "id": "262309e8-6472-49b7-8c2f-807b9cec8afa",
   "metadata": {},
   "outputs": [],
   "source": []
  }
 ],
 "metadata": {
  "kernelspec": {
   "display_name": "R",
   "language": "R",
   "name": "ir"
  },
  "language_info": {
   "codemirror_mode": "r",
   "file_extension": ".r",
   "mimetype": "text/x-r-source",
   "name": "R",
   "pygments_lexer": "r",
   "version": "3.6.1"
  }
 },
 "nbformat": 4,
 "nbformat_minor": 5
}
