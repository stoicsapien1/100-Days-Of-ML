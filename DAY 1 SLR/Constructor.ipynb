{
 "cells": [
  {
   "cell_type": "markdown",
   "id": "dd08edb3-7317-48ac-9305-c81ab5916a83",
   "metadata": {},
   "source": [
    "# Constructor"
   ]
  },
  {
   "cell_type": "code",
   "execution_count": 3,
   "id": "303122c9-cce1-4d94-b794-094ce53f0832",
   "metadata": {},
   "outputs": [],
   "source": [
    "class Person:\n",
    "    name=\"Harry\"\n",
    "    occ=\"Developer\"\n",
    "    def info(self):\n",
    "        print(f\"{self.name} is a {self.occ}\")\n"
   ]
  },
  {
   "cell_type": "code",
   "execution_count": 4,
   "id": "577ca0b1-4b51-4aca-8ba4-8a23f9723768",
   "metadata": {},
   "outputs": [
    {
     "name": "stdout",
     "output_type": "stream",
     "text": [
      "Harry is a Developer\n"
     ]
    }
   ],
   "source": [
    "a=Person()\n",
    "a.info()"
   ]
  },
  {
   "cell_type": "code",
   "execution_count": 5,
   "id": "292a5577-d891-4965-b222-49631f26fad5",
   "metadata": {},
   "outputs": [
    {
     "name": "stdout",
     "output_type": "stream",
     "text": [
      "Harry\n"
     ]
    }
   ],
   "source": [
    "a=Person()\n",
    "print(a.name)"
   ]
  },
  {
   "cell_type": "code",
   "execution_count": 11,
   "id": "0cbe9af0-ee68-4a64-902f-7cbfe6e9b1aa",
   "metadata": {},
   "outputs": [],
   "source": [
    "class Person:\n",
    "    def __init__(self,n,o):\n",
    "        print(\"Hey I am a person\")\n",
    "        self.name=n\n",
    "        self.occ=o\n",
    "        \n",
    "    def info(self):\n",
    "        print(f\"{self.name} is a {self.occ}\")\n",
    "a=Person(\"belal\",\"engg\")"
   ]
  },
  {
   "cell_type": "code",
   "execution_count": 12,
   "id": "bf526bb9-8e6d-4cd4-b45c-9ec5bba6eea5",
   "metadata": {},
   "outputs": [
    {
     "name": "stdout",
     "output_type": "stream",
     "text": [
      "Hey I am a person\n"
     ]
    }
   ],
   "source": [
    "a=Person(\"belal\",\"engg\")"
   ]
  },
  {
   "cell_type": "code",
   "execution_count": 13,
   "id": "f3403221-3dcb-4f03-9048-0b4e6dd72200",
   "metadata": {},
   "outputs": [
    {
     "name": "stdout",
     "output_type": "stream",
     "text": [
      "belal is a engg\n"
     ]
    }
   ],
   "source": [
    "a.info()"
   ]
  },
  {
   "cell_type": "code",
   "execution_count": null,
   "id": "4ca4b9c2-a6c2-4bfa-a545-1c72e225b6a3",
   "metadata": {},
   "outputs": [],
   "source": []
  }
 ],
 "metadata": {
  "kernelspec": {
   "display_name": "Python 3 (ipykernel)",
   "language": "python",
   "name": "python3"
  },
  "language_info": {
   "codemirror_mode": {
    "name": "ipython",
    "version": 3
   },
   "file_extension": ".py",
   "mimetype": "text/x-python",
   "name": "python",
   "nbconvert_exporter": "python",
   "pygments_lexer": "ipython3",
   "version": "3.10.9"
  }
 },
 "nbformat": 4,
 "nbformat_minor": 5
}
