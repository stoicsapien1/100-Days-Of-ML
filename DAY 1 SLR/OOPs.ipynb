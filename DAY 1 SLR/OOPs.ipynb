{
 "cells": [
  {
   "cell_type": "code",
   "execution_count": 1,
   "metadata": {},
   "outputs": [
    {
     "name": "stdout",
     "output_type": "stream",
     "text": [
      "30\n"
     ]
    }
   ],
   "source": [
    "a=10\n",
    "b=20\n",
    "sum=a+b\n",
    "print(sum)\n"
   ]
  },
  {
   "cell_type": "code",
   "execution_count": 3,
   "metadata": {},
   "outputs": [
    {
     "name": "stdout",
     "output_type": "stream",
     "text": [
      "karan\n"
     ]
    }
   ],
   "source": [
    "class Student:\n",
    "    name=\"karan\"\n",
    "s1=Student()\n",
    "print(s1.name)"
   ]
  },
  {
   "cell_type": "code",
   "execution_count": 4,
   "metadata": {},
   "outputs": [
    {
     "name": "stdout",
     "output_type": "stream",
     "text": [
      "karan\n"
     ]
    }
   ],
   "source": [
    "s2=Student()\n",
    "print(s2.name)"
   ]
  },
  {
   "cell_type": "code",
   "execution_count": 5,
   "metadata": {},
   "outputs": [
    {
     "name": "stdout",
     "output_type": "stream",
     "text": [
      "blue\n"
     ]
    }
   ],
   "source": [
    "class Car:\n",
    "    color=\"blue\"\n",
    "car1=Car()\n",
    "print(car1.color)"
   ]
  },
  {
   "cell_type": "code",
   "execution_count": 6,
   "metadata": {},
   "outputs": [
    {
     "name": "stdout",
     "output_type": "stream",
     "text": [
      "blue BMW\n"
     ]
    }
   ],
   "source": [
    "class Car:\n",
    "    color=\"blue\"\n",
    "    brand=\"BMW\"\n",
    "car1=Car()\n",
    "print(car1.color,car1.brand)"
   ]
  },
  {
   "cell_type": "code",
   "execution_count": 7,
   "metadata": {},
   "outputs": [
    {
     "name": "stdout",
     "output_type": "stream",
     "text": [
      "Shubham teacher\n"
     ]
    }
   ],
   "source": [
    "class Person:\n",
    "    name=\"Harry\"\n",
    "    occupation=\"Software Developer\"\n",
    "    networth=10\n",
    "a=Person()\n",
    "a.name=\"Shubham\"\n",
    "a.occupation=\"teacher\"\n",
    "print(a.name,a.occupation)"
   ]
  },
  {
   "cell_type": "code",
   "execution_count": 8,
   "metadata": {},
   "outputs": [
    {
     "name": "stdout",
     "output_type": "stream",
     "text": [
      "Shubham is a teacher\n"
     ]
    }
   ],
   "source": [
    "class Person:\n",
    "    name=\"Harry\"\n",
    "    occupation=\"Software Developer\"\n",
    "    networth=10\n",
    "    def info(self):\n",
    "        print(f\"{self.name} is a {self.occupation}\")\n",
    "        \n",
    "    \n",
    "a=Person()\n",
    "a.name=\"Shubham\"\n",
    "a.occupation=\"teacher\"\n",
    "a.info()"
   ]
  },
  {
   "cell_type": "code",
   "execution_count": 9,
   "metadata": {},
   "outputs": [
    {
     "name": "stdout",
     "output_type": "stream",
     "text": [
      "Belal is a Data Scientist\n"
     ]
    }
   ],
   "source": [
    "b=Person()\n",
    "b.name=\"Belal\"\n",
    "b.occupation=\"Data Scientist\"\n",
    "b.info()"
   ]
  },
  {
   "cell_type": "code",
   "execution_count": 11,
   "metadata": {},
   "outputs": [
    {
     "name": "stdout",
     "output_type": "stream",
     "text": [
      "Rani is a HR\n"
     ]
    }
   ],
   "source": [
    "c=Person()\n",
    "c.name=\"Rani\"\n",
    "c.occupation=\"HR\"\n",
    "c.info()"
   ]
  },
  {
   "cell_type": "code",
   "execution_count": 2,
   "metadata": {},
   "outputs": [
    {
     "name": "stdout",
     "output_type": "stream",
     "text": [
      "bnw is good car\n"
     ]
    }
   ],
   "source": [
    "class Car:\n",
    "    name=\"nano\"\n",
    "    com=\"tata\"\n",
    "    def info(self):\n",
    "        print(f\"{self.name} is good car\")\n",
    "b=Car()\n",
    "b.name=\"bnw\"\n",
    "b.info()"
   ]
  },
  {
   "cell_type": "code",
   "execution_count": 2,
   "metadata": {},
   "outputs": [
    {
     "name": "stdout",
     "output_type": "stream",
     "text": [
      "bnw is good car\n"
     ]
    }
   ],
   "source": [
    "class Car:\n",
    "    name=\"nano\"\n",
    "    com=\"tata\"\n",
    "    def info(self):\n",
    "        print(f\"{self.name} is good car\")\n",
    "b=Car()\n",
    "b.name=\"bnw\"\n",
    "b.info()"
   ]
  },
  {
   "cell_type": "code",
   "execution_count": 5,
   "metadata": {},
   "outputs": [
    {
     "ename": "NameError",
     "evalue": "name 'grade' is not defined",
     "output_type": "error",
     "traceback": [
      "\u001b[1;31m---------------------------------------------------------------------------\u001b[0m",
      "\u001b[1;31mNameError\u001b[0m                                 Traceback (most recent call last)",
      "Cell \u001b[1;32mIn[5], line 12\u001b[0m\n\u001b[0;32m     10\u001b[0m h\u001b[38;5;241m.\u001b[39mstd\u001b[38;5;241m=\u001b[39m\u001b[38;5;241m12\u001b[39m\n\u001b[0;32m     11\u001b[0m h\u001b[38;5;241m.\u001b[39mgrade\u001b[38;5;241m=\u001b[39m\u001b[38;5;241m7\u001b[39m\n\u001b[1;32m---> 12\u001b[0m \u001b[43mh\u001b[49m\u001b[38;5;241;43m.\u001b[39;49m\u001b[43minfo\u001b[49m\u001b[43m(\u001b[49m\u001b[43m)\u001b[49m\n",
      "Cell \u001b[1;32mIn[5], line 6\u001b[0m, in \u001b[0;36mperformance.info\u001b[1;34m(self)\u001b[0m\n\u001b[0;32m      5\u001b[0m \u001b[38;5;28;01mdef\u001b[39;00m \u001b[38;5;21minfo\u001b[39m(\u001b[38;5;28mself\u001b[39m):\n\u001b[1;32m----> 6\u001b[0m     \u001b[38;5;28;01mif\u001b[39;00m \u001b[43mgrade\u001b[49m\u001b[38;5;241m>\u001b[39m\u001b[38;5;241m5\u001b[39m:\n\u001b[0;32m      7\u001b[0m         \u001b[38;5;28mprint\u001b[39m(\u001b[38;5;124mf\u001b[39m\u001b[38;5;124m\"\u001b[39m\u001b[38;5;132;01m{\u001b[39;00m\u001b[38;5;28mself\u001b[39m\u001b[38;5;241m.\u001b[39mname\u001b[38;5;132;01m}\u001b[39;00m\u001b[38;5;124m performs good\u001b[39m\u001b[38;5;124m\"\u001b[39m)\n",
      "\u001b[1;31mNameError\u001b[0m: name 'grade' is not defined"
     ]
    }
   ],
   "source": [
    "class performance:\n",
    "    name=\"Bilal\"\n",
    "    std=6\n",
    "    grade=5\n",
    "    def info(self):\n",
    "        if grade>5:\n",
    "            print(f\"{self.name} performs good\")\n",
    "h=performance()\n",
    "h.name=\"batman\"\n",
    "h.std=12\n",
    "h.grade=7\n",
    "h.info()"
   ]
  },
  {
   "cell_type": "code",
   "execution_count": 6,
   "metadata": {},
   "outputs": [
    {
     "name": "stdout",
     "output_type": "stream",
     "text": [
      "batman performs good\n"
     ]
    }
   ],
   "source": [
    "class performance:\n",
    "    name=\"Bilal\"\n",
    "    std=6\n",
    "    grade=5\n",
    "    def info(self):\n",
    "        if self.grade>5:\n",
    "            print(f\"{self.name} performs good\")\n",
    "h=performance()\n",
    "h.name=\"batman\"\n",
    "h.std=12\n",
    "h.grade=7\n",
    "h.info()"
   ]
  },
  {
   "cell_type": "code",
   "execution_count": 3,
   "metadata": {},
   "outputs": [
    {
     "name": "stdout",
     "output_type": "stream",
     "text": [
      "Belal lives in room 305A\n"
     ]
    }
   ],
   "source": [
    "class gupta_nivas:\n",
    "    name=\"Belal\"\n",
    "    room=\"305A\"\n",
    "    def info(self):\n",
    "        print(f\"{self.name} lives in room {self.room}\")\n",
    "a=gupta_nivas()\n",
    "a.info()"
   ]
  },
  {
   "cell_type": "code",
   "execution_count": 5,
   "metadata": {},
   "outputs": [
    {
     "name": "stdout",
     "output_type": "stream",
     "text": [
      "wasem lives in room 302A\n"
     ]
    }
   ],
   "source": [
    "b=gupta_nivas()\n",
    "b.name=\"wasem\"\n",
    "b.room=\"302A\"\n",
    "b.info()"
   ]
  },
  {
   "cell_type": "code",
   "execution_count": null,
   "metadata": {},
   "outputs": [],
   "source": []
  }
 ],
 "metadata": {
  "kernelspec": {
   "display_name": "Python 3 (ipykernel)",
   "language": "python",
   "name": "python3"
  },
  "language_info": {
   "codemirror_mode": {
    "name": "ipython",
    "version": 3
   },
   "file_extension": ".py",
   "mimetype": "text/x-python",
   "name": "python",
   "nbconvert_exporter": "python",
   "pygments_lexer": "ipython3",
   "version": "3.10.9"
  }
 },
 "nbformat": 4,
 "nbformat_minor": 4
}
