{
 "cells": [
  {
   "cell_type": "code",
   "execution_count": 1,
   "metadata": {},
   "outputs": [],
   "source": [
    "from sklearn.datasets import make_classification\n",
    "from sklearn.model_selection import train_test_split\n",
    "from sklearn.metrics import accuracy_score\n",
    "from sklearn.ensemble import GradientBoostingClassifier\n",
    "import xgboost as xgb\n",
    "import time"
   ]
  },
  {
   "cell_type": "code",
   "execution_count": 2,
   "metadata": {},
   "outputs": [],
   "source": [
    "#Creating a synthetic dataset\n",
    "X,y=make_classification(n_samples=10000,n_features=200,random_state=42)\n",
    "\n",
    "# train test split\n",
    "X_train,X_test,y_train,y_test= train_test_split(X,y,test_size=0.2,random_state=42)\n",
    "\n",
    "# Model\n",
    "gb_model= GradientBoostingClassifier(random_state=42)\n",
    "xgb_model=xgb.XGBClassifier(random_state=42,use_label_encoder=False,eval_metrics=\"logloss\")\n"
   ]
  },
  {
   "cell_type": "code",
   "execution_count": 4,
   "metadata": {},
   "outputs": [
    {
     "name": "stdout",
     "output_type": "stream",
     "text": [
      "71.19544529914856\n",
      "Accuracy Score 0.9325\n"
     ]
    }
   ],
   "source": [
    "# Training and evaluating the Gradeint Boosting Model\n",
    "start_gb=time.time()\n",
    "gb_model.fit(X_train,y_train)\n",
    "end_gb=time.time()\n",
    "\n",
    "gb_time=end_gb-start_gb\n",
    "print(gb_time)\n",
    "\n",
    "print(\"Accuracy Score\",gb_model.score(X_test,y_test))"
   ]
  },
  {
   "cell_type": "code",
   "execution_count": 7,
   "metadata": {},
   "outputs": [
    {
     "name": "stderr",
     "output_type": "stream",
     "text": [
      "c:\\Users\\lucius seneca\\AppData\\Local\\Programs\\Python\\Python310\\lib\\site-packages\\xgboost\\core.py:160: UserWarning: [18:54:51] WARNING: C:\\buildkite-agent\\builds\\buildkite-windows-cpu-autoscaling-group-i-0b3782d1791676daf-1\\xgboost\\xgboost-ci-windows\\src\\learner.cc:742: \n",
      "Parameters: { \"eval_metrics\" } are not used.\n",
      "\n",
      "  warnings.warn(smsg, UserWarning)\n"
     ]
    },
    {
     "name": "stdout",
     "output_type": "stream",
     "text": [
      "1721395491.7174182\n",
      "Accuracy Score 0.935\n"
     ]
    }
   ],
   "source": [
    "#Training and evaluating the XgBoost model\n",
    "start_xgb=time.time()\n",
    "xgb_model.fit(X_train,y_train)\n",
    "end_xgb=time.time()\n",
    "xgb_time=end_xgb=start_xgb\n",
    "print(xgb_time)\n",
    "\n",
    "print(\"Accuracy Score\",xgb_model.score(X_test,y_test))\n"
   ]
  },
  {
   "cell_type": "code",
   "execution_count": null,
   "metadata": {},
   "outputs": [],
   "source": []
  }
 ],
 "metadata": {
  "kernelspec": {
   "display_name": "Python 3",
   "language": "python",
   "name": "python3"
  },
  "language_info": {
   "codemirror_mode": {
    "name": "ipython",
    "version": 3
   },
   "file_extension": ".py",
   "mimetype": "text/x-python",
   "name": "python",
   "nbconvert_exporter": "python",
   "pygments_lexer": "ipython3",
   "version": "3.10.0"
  }
 },
 "nbformat": 4,
 "nbformat_minor": 2
}
