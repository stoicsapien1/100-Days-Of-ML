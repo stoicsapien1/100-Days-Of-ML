{
 "cells": [
  {
   "cell_type": "markdown",
   "id": "8e1263f0-cb55-4b42-b29f-e23a4751c7fb",
   "metadata": {},
   "source": [
    "## OOPS"
   ]
  },
  {
   "cell_type": "code",
   "execution_count": 4,
   "id": "3dfe766e-e1eb-462c-a267-639be472145d",
   "metadata": {},
   "outputs": [],
   "source": [
    " class car:\n",
    "        pass"
   ]
  },
  {
   "cell_type": "code",
   "execution_count": 5,
   "id": "2234ac27-1da1-4550-9489-26735990f041",
   "metadata": {},
   "outputs": [],
   "source": [
    "audiq7=car()"
   ]
  },
  {
   "cell_type": "code",
   "execution_count": 6,
   "id": "9d27b826-0dd7-41dc-a26e-544bd4e76d34",
   "metadata": {},
   "outputs": [
    {
     "data": {
      "text/plain": [
       "<__main__.car at 0x28d473476d0>"
      ]
     },
     "execution_count": 6,
     "metadata": {},
     "output_type": "execute_result"
    }
   ],
   "source": [
    "audiq7"
   ]
  },
  {
   "cell_type": "code",
   "execution_count": 9,
   "id": "853567ed-dafc-4b08-9e38-7ad5ed2fbfd9",
   "metadata": {},
   "outputs": [],
   "source": [
    "audiq7.milage=10\n",
    "\n",
    "audiq7.year=2020\n",
    "audiq7.make=345\n",
    "audiq7.model=\"fsds\""
   ]
  },
  {
   "cell_type": "code",
   "execution_count": 10,
   "id": "c6d8bf60-1ce3-4fc1-967d-c99049167d48",
   "metadata": {},
   "outputs": [
    {
     "data": {
      "text/plain": [
       "10"
      ]
     },
     "execution_count": 10,
     "metadata": {},
     "output_type": "execute_result"
    }
   ],
   "source": [
    "audiq7.milage"
   ]
  },
  {
   "cell_type": "code",
   "execution_count": 11,
   "id": "3b242f05-36f0-487c-a341-37ed20900497",
   "metadata": {},
   "outputs": [
    {
     "ename": "NameError",
     "evalue": "name 'milage' is not defined",
     "output_type": "error",
     "traceback": [
      "\u001b[1;31m---------------------------------------------------------------------------\u001b[0m",
      "\u001b[1;31mNameError\u001b[0m                                 Traceback (most recent call last)",
      "Cell \u001b[1;32mIn[11], line 1\u001b[0m\n\u001b[1;32m----> 1\u001b[0m \u001b[43mmilage\u001b[49m\n",
      "\u001b[1;31mNameError\u001b[0m: name 'milage' is not defined"
     ]
    }
   ],
   "source": [
    "milage"
   ]
  },
  {
   "cell_type": "code",
   "execution_count": 12,
   "id": "8c6fc480-c7ec-4a43-baaf-c18b9440a43f",
   "metadata": {},
   "outputs": [],
   "source": [
    "nano=car()"
   ]
  },
  {
   "cell_type": "code",
   "execution_count": 15,
   "id": "a44e32ff-d2ea-4179-b49c-84994b8f21db",
   "metadata": {},
   "outputs": [],
   "source": [
    "nano.milage=20\n",
    "nano.year=2020\n",
    "nano.make=234\n",
    "nano.model=\"dfdf\"\n",
    "nano.engineno= 1234"
   ]
  },
  {
   "cell_type": "code",
   "execution_count": 14,
   "id": "c197ec30-1018-49ba-9ab8-770ed1d4a28c",
   "metadata": {},
   "outputs": [
    {
     "data": {
      "text/plain": [
       "20"
      ]
     },
     "execution_count": 14,
     "metadata": {},
     "output_type": "execute_result"
    }
   ],
   "source": [
    "nano.milage"
   ]
  },
  {
   "cell_type": "code",
   "execution_count": 17,
   "id": "ed8206f4-74f5-4433-9f1a-a6e77c2e1701",
   "metadata": {},
   "outputs": [
    {
     "name": "stdout",
     "output_type": "stream",
     "text": [
      "20 10\n"
     ]
    }
   ],
   "source": [
    "print(nano.milage,audiq7.milage)"
   ]
  },
  {
   "cell_type": "code",
   "execution_count": 18,
   "id": "16dd8adb-b62b-4c0f-83ca-8ec7477dbcde",
   "metadata": {},
   "outputs": [],
   "source": [
    "class car:\n",
    "    def __init__(self,mileage,year,make,model):\n",
    "        self.milage=milage\n",
    "        self.year=year\n",
    "        self.make=make\n",
    "        self.model=model"
   ]
  },
  {
   "cell_type": "code",
   "execution_count": null,
   "id": "1a53873c-6853-4907-86cc-ebd3ae111a1a",
   "metadata": {},
   "outputs": [],
   "source": []
  }
 ],
 "metadata": {
  "kernelspec": {
   "display_name": "Python 3 (ipykernel)",
   "language": "python",
   "name": "python3"
  },
  "language_info": {
   "codemirror_mode": {
    "name": "ipython",
    "version": 3
   },
   "file_extension": ".py",
   "mimetype": "text/x-python",
   "name": "python",
   "nbconvert_exporter": "python",
   "pygments_lexer": "ipython3",
   "version": "3.10.9"
  }
 },
 "nbformat": 4,
 "nbformat_minor": 5
}
