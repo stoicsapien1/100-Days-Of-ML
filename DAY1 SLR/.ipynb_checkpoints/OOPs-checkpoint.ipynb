{
 "cells": [
  {
   "cell_type": "code",
   "execution_count": 1,
   "metadata": {},
   "outputs": [
    {
     "name": "stdout",
     "output_type": "stream",
     "text": [
      "30\n"
     ]
    }
   ],
   "source": [
    "a=10\n",
    "b=20\n",
    "sum=a+b\n",
    "print(sum)\n"
   ]
  },
  {
   "cell_type": "code",
   "execution_count": 3,
   "metadata": {},
   "outputs": [
    {
     "name": "stdout",
     "output_type": "stream",
     "text": [
      "karan\n"
     ]
    }
   ],
   "source": [
    "class Student:\n",
    "    name=\"karan\"\n",
    "s1=Student()\n",
    "print(s1.name)"
   ]
  },
  {
   "cell_type": "code",
   "execution_count": 4,
   "metadata": {},
   "outputs": [
    {
     "name": "stdout",
     "output_type": "stream",
     "text": [
      "karan\n"
     ]
    }
   ],
   "source": [
    "s2=Student()\n",
    "print(s2.name)"
   ]
  },
  {
   "cell_type": "code",
   "execution_count": 5,
   "metadata": {},
   "outputs": [
    {
     "name": "stdout",
     "output_type": "stream",
     "text": [
      "blue\n"
     ]
    }
   ],
   "source": [
    "class Car:\n",
    "    color=\"blue\"\n",
    "car1=Car()\n",
    "print(car1.color)"
   ]
  },
  {
   "cell_type": "code",
   "execution_count": 6,
   "metadata": {},
   "outputs": [
    {
     "name": "stdout",
     "output_type": "stream",
     "text": [
      "blue BMW\n"
     ]
    }
   ],
   "source": [
    "class Car:\n",
    "    color=\"blue\"\n",
    "    brand=\"BMW\"\n",
    "car1=Car()\n",
    "print(car1.color,car1.brand)"
   ]
  },
  {
   "cell_type": "code",
   "execution_count": 7,
   "metadata": {},
   "outputs": [
    {
     "name": "stdout",
     "output_type": "stream",
     "text": [
      "Shubham teacher\n"
     ]
    }
   ],
   "source": [
    "class Person:\n",
    "    name=\"Harry\"\n",
    "    occupation=\"Software Developer\"\n",
    "    networth=10\n",
    "a=Person()\n",
    "a.name=\"Shubham\"\n",
    "a.occupation=\"teacher\"\n",
    "print(a.name,a.occupation)"
   ]
  },
  {
   "cell_type": "code",
   "execution_count": 8,
   "metadata": {},
   "outputs": [
    {
     "name": "stdout",
     "output_type": "stream",
     "text": [
      "Shubham is a teacher\n"
     ]
    }
   ],
   "source": [
    "class Person:\n",
    "    name=\"Harry\"\n",
    "    occupation=\"Software Developer\"\n",
    "    networth=10\n",
    "    def info(self):\n",
    "        print(f\"{self.name} is a {self.occupation}\")\n",
    "    \n",
    "a=Person()\n",
    "a.name=\"Shubham\"\n",
    "a.occupation=\"teacher\"\n",
    "a.info()"
   ]
  },
  {
   "cell_type": "code",
   "execution_count": 9,
   "metadata": {},
   "outputs": [
    {
     "name": "stdout",
     "output_type": "stream",
     "text": [
      "Belal is a Data Scientist\n"
     ]
    }
   ],
   "source": [
    "b=Person()\n",
    "b.name=\"Belal\"\n",
    "b.occupation=\"Data Scientist\"\n",
    "b.info()"
   ]
  },
  {
   "cell_type": "code",
   "execution_count": 11,
   "metadata": {},
   "outputs": [
    {
     "name": "stdout",
     "output_type": "stream",
     "text": [
      "Rani is a HR\n"
     ]
    }
   ],
   "source": [
    "c=Person()\n",
    "c.name=\"Rani\"\n",
    "c.occupation=\"HR\"\n",
    "c.info()"
   ]
  },
  {
   "cell_type": "markdown",
   "metadata": {},
   "source": [
    "## Constructors In Python"
   ]
  },
  {
   "cell_type": "code",
   "execution_count": 13,
   "metadata": {},
   "outputs": [
    {
     "name": "stdout",
     "output_type": "stream",
     "text": [
      "Batman is a Business man\n"
     ]
    }
   ],
   "source": [
    "class Person:\n",
    "    name=\"Belal\"\n",
    "    occ=\"DS\"\n",
    "    def info(self):\n",
    "        print(f\"{self.name} is a {self.occ}\")\n",
    "a=Person()\n",
    "a.name=\"Batman\"\n",
    "a.occ=\"Business man\"\n",
    "a.info()\n"
   ]
  },
  {
   "cell_type": "code",
   "execution_count": null,
   "metadata": {},
   "outputs": [],
   "source": [
    "                                                                                                                                                                                                              "
   ]
  }
 ],
 "metadata": {
  "kernelspec": {
   "display_name": "Python 3",
   "language": "python",
   "name": "python3"
  },
  "language_info": {
   "codemirror_mode": {
    "name": "ipython",
    "version": 3
   },
   "file_extension": ".py",
   "mimetype": "text/x-python",
   "name": "python",
   "nbconvert_exporter": "python",
   "pygments_lexer": "ipython3",
   "version": "3.10.0"
  }
 },
 "nbformat": 4,
 "nbformat_minor": 2
}
